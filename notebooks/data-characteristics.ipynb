{
 "cells": [
  {
   "cell_type": "markdown",
   "metadata": {},
   "source": [
    "# Analyse des statistiques des axes bruts\n",
    "\n",
    "Moyenne :\n",
    "- Les moyennes des trois axes (-1.62, -0.88, -1.16) ne sont pas centrées autour de 0g ou 1g (gravité attendue pour un capteur correctement calibré).\n",
    "- Cela indique un décalage constant (offset) dans vos données brutes.\n",
    "\n",
    "Écart type (std) :\n",
    "- Les écarts-types sont raisonnables (0.46g à 0.64g), mais le signal semble être affecté par des vibrations.\n",
    "\n",
    "Valeurs extrêmes :\n",
    "- Min : -9g pour les trois axes.\n",
    "- Max : 6.98g pour deux axes et 4.65g pour un axe.\n",
    "\n",
    "Ces valeurs semblent excessivement élevées, surtout si l’activité est limitée à une course ou une marche rapide. Cela peut indiquer du bruit mécanique ou des artefacts."
   ]
  },
  {
   "cell_type": "code",
   "execution_count": 2,
   "metadata": {},
   "outputs": [],
   "source": [
    "import pandas as pd\n",
    "import matplotlib.pyplot as plt\n",
    "\n",
    "file_path = \"/Users/leasaab/Documents/Dev/AX3-Project/data/FemmeCardio.csv\"\n",
    "\n",
    "data = pd.read_csv(file_path)\n",
    "\n",
    "timestamp_column = data.columns[0]\n",
    "signal_columns = data.columns[1:]   # All remaining columns are sensor data\n",
    "\n",
    "# Convert the timestamp column to datetime\n",
    "data[timestamp_column] = pd.to_datetime(data[timestamp_column], errors='coerce')  # Handle invalid dates\n",
    "\n",
    "# Calculate the sampling interval (in seconds)\n",
    "sampling_interval = (\n",
    "    pd.to_datetime(data[timestamp_column].iloc[1]) -  # Access a single row\n",
    "    pd.to_datetime(data[timestamp_column].iloc[0])\n",
    ").total_seconds()\n",
    "\n",
    "# Create a relative time axis (in minutes)\n",
    "data['relative_time_minutes'] = data.index * sampling_interval\n",
    "\n",
    "# Define axis labels for clarity\n",
    "axis_labels = ['X-axis', 'Y-axis', 'Z-axis']\n",
    "colors = {'X': 'blue', 'Y': 'red', 'Z': 'green'}  # Define colors for each signal"
   ]
  },
  {
   "cell_type": "code",
   "execution_count": 3,
   "metadata": {},
   "outputs": [
    {
     "name": "stdout",
     "output_type": "stream",
     "text": [
      "Résumé des axes bruts (X, Y, Z) :\n",
      "          -0.296875      0.703125     -0.343750\n",
      "count  2.844599e+06  2.844599e+06  2.844599e+06\n",
      "mean  -6.206059e-01  1.180590e-01 -1.640044e-01\n",
      "std    6.417535e-01  5.719005e-01  4.655762e-01\n",
      "min   -8.000000e+00 -8.000000e+00 -8.000000e+00\n",
      "25%   -9.062500e-01 -2.187500e-01 -5.000000e-01\n",
      "50%   -6.406250e-01  6.250000e-02 -2.343750e-01\n",
      "75%   -3.125000e-01  5.781250e-01  1.562500e-01\n",
      "max    7.984375e+00  7.984375e+00  5.656250e+00\n"
     ]
    }
   ],
   "source": [
    "print(\"Résumé des axes bruts (X, Y, Z) :\")\n",
    "print(data[signal_columns].describe())"
   ]
  },
  {
   "cell_type": "markdown",
   "metadata": {},
   "source": [
    "• Problèmes identifiés\n",
    "\n",
    "- Les données ne sont pas centrées correctement autour de la gravité (1g), affectant la norme euclidienne utilisée pour calculer l’ENMO.\n",
    "\n",
    "- Les pics à -9g et 6.98g sont suspects et pourraient être causés par des bruits mécanique (vibrations du tapis roulant) ou une mauvaise calibration du capteur.\n",
    "\n",
    "- L’absence de filtrage laisse passer les pics de bruit, amplifiant les anomalies dans l’ENMO.\n",
    "\n",
    "Il faut donc corriger le décalage pour recentrer les moyennes autour de 1g pour l’axe vertical (Z), et 0g pour les autres axes. Puis appliquer un filtre passe-bas."
   ]
  },
  {
   "cell_type": "code",
   "execution_count": 4,
   "metadata": {},
   "outputs": [],
   "source": [
    "calibration_offset = {\n",
    "    '-0.296875': -1.62,   # Offset pour l'axe X\n",
    "    '0.703125': -0.88,    # Offset pour l'axe Y\n",
    "    '-0.343750': -1.16    # Offset pour l'axe Z\n",
    "}\n",
    "for col, offset in calibration_offset.items():\n",
    "    data[col] = data[col] - offset"
   ]
  },
  {
   "cell_type": "markdown",
   "metadata": {},
   "source": [
    "## Additional infos"
   ]
  },
  {
   "cell_type": "markdown",
   "metadata": {},
   "source": [
    "1. Sampling frequency"
   ]
  },
  {
   "cell_type": "code",
   "execution_count": 6,
   "metadata": {},
   "outputs": [
    {
     "name": "stdout",
     "output_type": "stream",
     "text": [
      "La fréquence d'échantillonnage du signal est de 500.00 Hz.\n"
     ]
    }
   ],
   "source": [
    "# Calcul de l'intervalle de temps entre les deux premiers échantillons\n",
    "time_diff = (\n",
    "    data[timestamp_column].iloc[1] - data[timestamp_column].iloc[0]\n",
    ").total_seconds()\n",
    "\n",
    "# Calcul de la fréquence d'échantillonnage (Hz)\n",
    "fs = 1 / time_diff\n",
    "\n",
    "print(f\"La fréquence d'échantillonnage du signal est de {fs:.2f} Hz.\")"
   ]
  }
 ],
 "metadata": {
  "kernelspec": {
   "display_name": "ax3_env",
   "language": "python",
   "name": "python3"
  },
  "language_info": {
   "codemirror_mode": {
    "name": "ipython",
    "version": 3
   },
   "file_extension": ".py",
   "mimetype": "text/x-python",
   "name": "python",
   "nbconvert_exporter": "python",
   "pygments_lexer": "ipython3",
   "version": "3.9.20"
  }
 },
 "nbformat": 4,
 "nbformat_minor": 2
}
