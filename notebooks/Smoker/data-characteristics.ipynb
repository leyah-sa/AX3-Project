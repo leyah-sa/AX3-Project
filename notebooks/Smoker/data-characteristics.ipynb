{
 "cells": [
  {
   "cell_type": "code",
   "execution_count": 1,
   "metadata": {},
   "outputs": [
    {
     "name": "stdout",
     "output_type": "stream",
     "text": [
      "Number of rows: 2844599\n",
      "Number of columns: 4\n",
      "Column names: Index(['2024-10-06 15:40:04.502', '-0.296875', '0.703125', '-0.343750'], dtype='object')\n",
      "Data types: 2024-10-06 15:40:04.502     object\n",
      "-0.296875                  float64\n",
      "0.703125                   float64\n",
      "-0.343750                  float64\n",
      "dtype: object\n",
      "Missing values per column:\n",
      "2024-10-06 15:40:04.502    0\n",
      "-0.296875                  0\n",
      "0.703125                   0\n",
      "-0.343750                  0\n",
      "dtype: int64\n"
     ]
    }
   ],
   "source": [
    "import pandas as pd\n",
    "\n",
    "file_path = \"/Users/leasaab/Documents/Dev/AX3-Project/data/FemmeCardio.csv\"\n",
    "data = pd.read_csv(file_path)\n",
    "\n",
    "\n",
    "print(\"Number of rows:\", data.shape[0])\n",
    "print(\"Number of columns:\", data.shape[1])\n",
    "\n",
    "print(\"Column names:\", data.columns)\n",
    "print(\"Data types:\", data.dtypes)\n",
    "\n",
    "print(\"Missing values per column:\")\n",
    "print(data.isnull().sum())"
   ]
  }
 ],
 "metadata": {
  "kernelspec": {
   "display_name": "Python 3",
   "language": "python",
   "name": "python3"
  },
  "language_info": {
   "codemirror_mode": {
    "name": "ipython",
    "version": 3
   },
   "file_extension": ".py",
   "mimetype": "text/x-python",
   "name": "python",
   "nbconvert_exporter": "python",
   "pygments_lexer": "ipython3",
   "version": "3.11.7"
  }
 },
 "nbformat": 4,
 "nbformat_minor": 2
}
