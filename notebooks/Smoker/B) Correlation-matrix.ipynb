{
 "cells": [
  {
   "cell_type": "code",
   "execution_count": 1,
   "metadata": {},
   "outputs": [],
   "source": [
    "import pandas as pd\n",
    "import matplotlib.pyplot as plt\n",
    "\n",
    "file_path = \"/Users/leasaab/Documents/Dev/AX3-Project/data/FemmeCardio.csv\"\n",
    "\n",
    "data = pd.read_csv(file_path)\n",
    "\n",
    "timestamp_column = data.columns[0]\n",
    "signal_columns = data.columns[1:]   # All remaining columns are sensor data\n",
    "\n",
    "# Convert the timestamp column to datetime\n",
    "data[timestamp_column] = pd.to_datetime(data[timestamp_column], errors='coerce')  # Handle invalid dates\n",
    "\n",
    "# Calculate the sampling interval (in seconds)\n",
    "sampling_interval = (\n",
    "    pd.to_datetime(data[timestamp_column].iloc[1]) -  # Access a single row\n",
    "    pd.to_datetime(data[timestamp_column].iloc[0])\n",
    ").total_seconds()\n",
    "\n",
    "# Create a relative time axis (in minutes)\n",
    "data['relative_time_minutes'] = data.index * sampling_interval\n",
    "\n",
    "# Define axis labels for clarity\n",
    "axis_labels = ['X-axis', 'Y-axis', 'Z-axis']\n",
    "colors = {'X': 'blue', 'Y': 'red', 'Z': 'green'}  # Define colors for each signal"
   ]
  },
  {
   "cell_type": "code",
   "execution_count": 3,
   "metadata": {},
   "outputs": [
    {
     "name": "stdout",
     "output_type": "stream",
     "text": [
      "Matrice de corrélation entre les axes :\n",
      "           -0.296875  0.703125  -0.343750\n",
      "-0.296875   1.000000  0.127442  -0.369972\n",
      "0.703125    0.127442  1.000000  -0.061475\n",
      "-0.343750  -0.369972 -0.061475   1.000000\n"
     ]
    },
    {
     "ename": "NameError",
     "evalue": "name 'sns' is not defined",
     "output_type": "error",
     "traceback": [
      "\u001b[0;31m---------------------------------------------------------------------------\u001b[0m",
      "\u001b[0;31mNameError\u001b[0m                                 Traceback (most recent call last)",
      "Cell \u001b[0;32mIn[3], line 11\u001b[0m\n\u001b[1;32m      8\u001b[0m \u001b[38;5;28mprint\u001b[39m(correlation_matrix)\n\u001b[1;32m     10\u001b[0m plt\u001b[38;5;241m.\u001b[39mfigure(figsize\u001b[38;5;241m=\u001b[39m(\u001b[38;5;241m8\u001b[39m, \u001b[38;5;241m6\u001b[39m))\n\u001b[0;32m---> 11\u001b[0m \u001b[43msns\u001b[49m\u001b[38;5;241m.\u001b[39mheatmap(correlation_matrix, annot\u001b[38;5;241m=\u001b[39m\u001b[38;5;28;01mTrue\u001b[39;00m, cmap\u001b[38;5;241m=\u001b[39m\u001b[38;5;124m'\u001b[39m\u001b[38;5;124mcoolwarm\u001b[39m\u001b[38;5;124m'\u001b[39m, fmt\u001b[38;5;241m=\u001b[39m\u001b[38;5;124m\"\u001b[39m\u001b[38;5;124m.2f\u001b[39m\u001b[38;5;124m\"\u001b[39m, cbar\u001b[38;5;241m=\u001b[39m\u001b[38;5;28;01mTrue\u001b[39;00m)\n\u001b[1;32m     12\u001b[0m plt\u001b[38;5;241m.\u001b[39mtitle(\u001b[38;5;124m\"\u001b[39m\u001b[38;5;124mMatrice de Corrélation des Axes X, Y, Z\u001b[39m\u001b[38;5;124m\"\u001b[39m)\n\u001b[1;32m     13\u001b[0m plt\u001b[38;5;241m.\u001b[39mshow()\n",
      "\u001b[0;31mNameError\u001b[0m: name 'sns' is not defined"
     ]
    },
    {
     "data": {
      "text/plain": [
       "<Figure size 800x600 with 0 Axes>"
      ]
     },
     "metadata": {},
     "output_type": "display_data"
    }
   ],
   "source": [
    "import seaborn as sns\n",
    "import matplotlib.pyplot as plt\n",
    "\n",
    "# Calculer la matrice de corrélation entre les axes\n",
    "correlation_matrix = data[signal_columns].corr()\n",
    "\n",
    "# Afficher la matrice de corrélation\n",
    "print(\"Matrice de corrélation entre les axes :\")\n",
    "print(correlation_matrix)\n",
    "\n",
    "plt.figure(figsize=(8, 6))\n",
    "sns.heatmap(correlation_matrix, annot=True, cmap='coolwarm', fmt=\".2f\", cbar=True)\n",
    "plt.title(\"Matrice de Corrélation des Axes X, Y, Z\")\n",
    "plt.show()"
   ]
  }
 ],
 "metadata": {
  "kernelspec": {
   "display_name": "ax3_env",
   "language": "python",
   "name": "python3"
  },
  "language_info": {
   "codemirror_mode": {
    "name": "ipython",
    "version": 3
   },
   "file_extension": ".py",
   "mimetype": "text/x-python",
   "name": "python",
   "nbconvert_exporter": "python",
   "pygments_lexer": "ipython3",
   "version": "3.9.20"
  }
 },
 "nbformat": 4,
 "nbformat_minor": 2
}
