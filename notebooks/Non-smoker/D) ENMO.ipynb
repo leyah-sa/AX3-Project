{
 "cells": [
  {
   "cell_type": "code",
   "execution_count": 1,
   "id": "57abb86c-6bf1-4e56-a2a7-e754d5d62530",
   "metadata": {},
   "outputs": [],
   "source": [
    "import pandas as pd\n",
    "import matplotlib.pyplot as plt\n",
    "\n",
    "file_path = \"/Users/duhameleve/Desktop/M2_SNS/M2SNS/Sante/Github/HAH913E-2024-projet/AX3 Project/Sans titre/data/NoneSmokerCardio.csv\"\n",
    "\n",
    "data = pd.read_csv(file_path)\n",
    "\n",
    "timestamp_column = data.columns[0]\n",
    "signal_columns = data.columns[1:]   # All remaining columns are sensor data\n",
    "\n",
    "# Convert the timestamp column to datetime\n",
    "data[timestamp_column] = pd.to_datetime(data[timestamp_column], errors='coerce')  # Handle invalid dates\n",
    "\n",
    "# Calculate the sampling interval (in seconds)\n",
    "sampling_interval = (\n",
    "    pd.to_datetime(data[timestamp_column].iloc[1]) -  # Access a single row\n",
    "    pd.to_datetime(data[timestamp_column].iloc[0])\n",
    ").total_seconds()\n",
    "\n",
    "# Create a relative time axis (in minutes)\n",
    "data['relative_time_minutes'] = data.index * sampling_interval\n",
    "\n",
    "# Define axis labels for clarity\n",
    "axis_labels = ['X-axis', 'Y-axis', 'Z-axis']\n",
    "colors = {'X': 'blue', 'Y': 'red', 'Z': 'green'}  # Define colors for each signal"
   ]
  },
  {
   "cell_type": "code",
   "execution_count": 2,
   "id": "43129d91-137a-4f8e-a126-896f2e9cf50a",
   "metadata": {},
   "outputs": [
    {
     "ename": "KeyError",
     "evalue": "'-0.296875'",
     "output_type": "error",
     "traceback": [
      "\u001b[0;31m---------------------------------------------------------------------------\u001b[0m",
      "\u001b[0;31mKeyError\u001b[0m                                  Traceback (most recent call last)",
      "File \u001b[0;32m/Applications/anaconda3/lib/python3.11/site-packages/pandas/core/indexes/base.py:3802\u001b[0m, in \u001b[0;36mIndex.get_loc\u001b[0;34m(self, key, method, tolerance)\u001b[0m\n\u001b[1;32m   3801\u001b[0m \u001b[38;5;28;01mtry\u001b[39;00m:\n\u001b[0;32m-> 3802\u001b[0m     \u001b[38;5;28;01mreturn\u001b[39;00m \u001b[38;5;28mself\u001b[39m\u001b[38;5;241m.\u001b[39m_engine\u001b[38;5;241m.\u001b[39mget_loc(casted_key)\n\u001b[1;32m   3803\u001b[0m \u001b[38;5;28;01mexcept\u001b[39;00m \u001b[38;5;167;01mKeyError\u001b[39;00m \u001b[38;5;28;01mas\u001b[39;00m err:\n",
      "File \u001b[0;32m/Applications/anaconda3/lib/python3.11/site-packages/pandas/_libs/index.pyx:138\u001b[0m, in \u001b[0;36mpandas._libs.index.IndexEngine.get_loc\u001b[0;34m()\u001b[0m\n",
      "File \u001b[0;32m/Applications/anaconda3/lib/python3.11/site-packages/pandas/_libs/index.pyx:165\u001b[0m, in \u001b[0;36mpandas._libs.index.IndexEngine.get_loc\u001b[0;34m()\u001b[0m\n",
      "File \u001b[0;32mpandas/_libs/hashtable_class_helper.pxi:5745\u001b[0m, in \u001b[0;36mpandas._libs.hashtable.PyObjectHashTable.get_item\u001b[0;34m()\u001b[0m\n",
      "File \u001b[0;32mpandas/_libs/hashtable_class_helper.pxi:5753\u001b[0m, in \u001b[0;36mpandas._libs.hashtable.PyObjectHashTable.get_item\u001b[0;34m()\u001b[0m\n",
      "\u001b[0;31mKeyError\u001b[0m: '-0.296875'",
      "\nThe above exception was the direct cause of the following exception:\n",
      "\u001b[0;31mKeyError\u001b[0m                                  Traceback (most recent call last)",
      "Cell \u001b[0;32mIn[2], line 7\u001b[0m\n\u001b[1;32m      1\u001b[0m calibration_offset \u001b[38;5;241m=\u001b[39m {\n\u001b[1;32m      2\u001b[0m     \u001b[38;5;124m'\u001b[39m\u001b[38;5;124m-0.296875\u001b[39m\u001b[38;5;124m'\u001b[39m: \u001b[38;5;241m-\u001b[39m\u001b[38;5;241m1.62\u001b[39m,   \u001b[38;5;66;03m# Offset pour l'axe X\u001b[39;00m\n\u001b[1;32m      3\u001b[0m     \u001b[38;5;124m'\u001b[39m\u001b[38;5;124m0.703125\u001b[39m\u001b[38;5;124m'\u001b[39m: \u001b[38;5;241m-\u001b[39m\u001b[38;5;241m0.88\u001b[39m,    \u001b[38;5;66;03m# Offset pour l'axe Y\u001b[39;00m\n\u001b[1;32m      4\u001b[0m     \u001b[38;5;124m'\u001b[39m\u001b[38;5;124m-0.343750\u001b[39m\u001b[38;5;124m'\u001b[39m: \u001b[38;5;241m-\u001b[39m\u001b[38;5;241m1.16\u001b[39m    \u001b[38;5;66;03m# Offset pour l'axe Z\u001b[39;00m\n\u001b[1;32m      5\u001b[0m }\n\u001b[1;32m      6\u001b[0m \u001b[38;5;28;01mfor\u001b[39;00m col, offset \u001b[38;5;129;01min\u001b[39;00m calibration_offset\u001b[38;5;241m.\u001b[39mitems():\n\u001b[0;32m----> 7\u001b[0m     data[col] \u001b[38;5;241m=\u001b[39m data[col] \u001b[38;5;241m-\u001b[39m offset\n\u001b[1;32m      9\u001b[0m \u001b[38;5;28;01mfrom\u001b[39;00m \u001b[38;5;21;01mscipy\u001b[39;00m\u001b[38;5;21;01m.\u001b[39;00m\u001b[38;5;21;01msignal\u001b[39;00m \u001b[38;5;28;01mimport\u001b[39;00m butter, filtfilt\n\u001b[1;32m     11\u001b[0m \u001b[38;5;66;03m# Function to apply a low-pass filter\u001b[39;00m\n",
      "File \u001b[0;32m/Applications/anaconda3/lib/python3.11/site-packages/pandas/core/frame.py:3807\u001b[0m, in \u001b[0;36mDataFrame.__getitem__\u001b[0;34m(self, key)\u001b[0m\n\u001b[1;32m   3805\u001b[0m \u001b[38;5;28;01mif\u001b[39;00m \u001b[38;5;28mself\u001b[39m\u001b[38;5;241m.\u001b[39mcolumns\u001b[38;5;241m.\u001b[39mnlevels \u001b[38;5;241m>\u001b[39m \u001b[38;5;241m1\u001b[39m:\n\u001b[1;32m   3806\u001b[0m     \u001b[38;5;28;01mreturn\u001b[39;00m \u001b[38;5;28mself\u001b[39m\u001b[38;5;241m.\u001b[39m_getitem_multilevel(key)\n\u001b[0;32m-> 3807\u001b[0m indexer \u001b[38;5;241m=\u001b[39m \u001b[38;5;28mself\u001b[39m\u001b[38;5;241m.\u001b[39mcolumns\u001b[38;5;241m.\u001b[39mget_loc(key)\n\u001b[1;32m   3808\u001b[0m \u001b[38;5;28;01mif\u001b[39;00m is_integer(indexer):\n\u001b[1;32m   3809\u001b[0m     indexer \u001b[38;5;241m=\u001b[39m [indexer]\n",
      "File \u001b[0;32m/Applications/anaconda3/lib/python3.11/site-packages/pandas/core/indexes/base.py:3804\u001b[0m, in \u001b[0;36mIndex.get_loc\u001b[0;34m(self, key, method, tolerance)\u001b[0m\n\u001b[1;32m   3802\u001b[0m     \u001b[38;5;28;01mreturn\u001b[39;00m \u001b[38;5;28mself\u001b[39m\u001b[38;5;241m.\u001b[39m_engine\u001b[38;5;241m.\u001b[39mget_loc(casted_key)\n\u001b[1;32m   3803\u001b[0m \u001b[38;5;28;01mexcept\u001b[39;00m \u001b[38;5;167;01mKeyError\u001b[39;00m \u001b[38;5;28;01mas\u001b[39;00m err:\n\u001b[0;32m-> 3804\u001b[0m     \u001b[38;5;28;01mraise\u001b[39;00m \u001b[38;5;167;01mKeyError\u001b[39;00m(key) \u001b[38;5;28;01mfrom\u001b[39;00m \u001b[38;5;21;01merr\u001b[39;00m\n\u001b[1;32m   3805\u001b[0m \u001b[38;5;28;01mexcept\u001b[39;00m \u001b[38;5;167;01mTypeError\u001b[39;00m:\n\u001b[1;32m   3806\u001b[0m     \u001b[38;5;66;03m# If we have a listlike key, _check_indexing_error will raise\u001b[39;00m\n\u001b[1;32m   3807\u001b[0m     \u001b[38;5;66;03m#  InvalidIndexError. Otherwise we fall through and re-raise\u001b[39;00m\n\u001b[1;32m   3808\u001b[0m     \u001b[38;5;66;03m#  the TypeError.\u001b[39;00m\n\u001b[1;32m   3809\u001b[0m     \u001b[38;5;28mself\u001b[39m\u001b[38;5;241m.\u001b[39m_check_indexing_error(key)\n",
      "\u001b[0;31mKeyError\u001b[0m: '-0.296875'"
     ]
    }
   ],
   "source": [
    "calibration_offset = {\n",
    "    '-0.296875': -1.62,   # Offset pour l'axe X\n",
    "    '0.703125': -0.88,    # Offset pour l'axe Y\n",
    "    '-0.343750': -1.16    # Offset pour l'axe Z\n",
    "}\n",
    "for col, offset in calibration_offset.items():\n",
    "    data[col] = data[col] - offset\n",
    "\n",
    "from scipy.signal import butter, filtfilt\n",
    "\n",
    "# Function to apply a low-pass filter\n",
    "def lowpass_filter(data, cutoff, fs, order=4):\n",
    "    \"\"\"\n",
    "    Apply a low-pass Butterworth filter.\n",
    "    \n",
    "    Parameters:\n",
    "        data (array-like): The signal to filter.\n",
    "        cutoff (float): The cutoff frequency in Hz.\n",
    "        fs (float): The sampling frequency in Hz.\n",
    "        order (int): The order of the filter (default is 4).\n",
    "    \n",
    "    Returns:\n",
    "        array-like: The filtered signal.\n",
    "    \"\"\"\n",
    "    nyquist = 0.5 * fs  # Nyquist frequency\n",
    "    normal_cutoff = cutoff / nyquist\n",
    "    b, a = butter(order, normal_cutoff, btype='low', analog=False)\n",
    "    return filtfilt(b, a, data)\n",
    "\n",
    "fs = 1 / sampling_interval  # Fréquence d'échantillonnage en Hz\n",
    "cutoff = 2  # Fréquence de coupure en Hz\n",
    "for col in signal_columns:\n",
    "    data[col] = lowpass_filter(data[col], cutoff, fs)"
   ]
  },
  {
   "cell_type": "code",
   "execution_count": null,
   "id": "a0fb6395",
   "metadata": {},
   "outputs": [],
   "source": [
    "import numpy as np\n",
    "\n",
    "# Calcul de la norme euclidienne des accélérations (X, Y, Z)\n",
    "data.loc[:, 'norm'] = np.sqrt(data['-0.296875']**2 + data['0.703125']**2 + data['-0.343750']**2)\n",
    "\n",
    "# Normalisation : centrer et réduire les données\n",
    "mean_norm = data['norm'].mean()\n",
    "std_norm = data['norm'].std()\n",
    "data.loc[:, 'norm_normalized'] = (data['norm'] - mean_norm) / std_norm\n",
    "\n",
    "# Calcul de l'ENMO : norme normalisée - 1, et on garde la valeur maximale entre 0 et la norme\n",
    "data.loc[:, 'ENMO'] = np.maximum(data['norm_normalized'] - 1, 0)\n",
    "\n",
    "# Affichage des premiers résultats\n",
    "print(data[['relative_time_minutes', 'ENMO']].head())\n",
    "\n",
    "# Visualisation de l'ENMO normalisé\n",
    "plt.figure(figsize=(12, 6))\n",
    "plt.plot(data['relative_time_minutes'], data['ENMO'], label=\"ENMO normalisé\", color='purple')\n",
    "plt.title(\"ENMO au fil du temps (Normalisé)\")\n",
    "plt.xlabel(\"Temps (min)\")\n",
    "plt.ylabel(\"ENMO\")\n",
    "plt.legend()\n",
    "plt.grid(True)\n",
    "plt.show()"
   ]
  },
  {
   "cell_type": "code",
   "execution_count": null,
   "id": "f0edf4aa",
   "metadata": {},
   "outputs": [],
   "source": [
    "# Définir les seuils pour les intensités\n",
    "seuil_faible = 0.5\n",
    "seuil_intense = 1.5\n",
    "\n",
    "# Classifier les moments d'intensité\n",
    "moments_faibles = data[data['ENMO'] <= seuil_faible]\n",
    "moments_moderes = data[(data['ENMO'] > seuil_faible) & (data['ENMO'] <= seuil_intense)]\n",
    "moments_intenses = data[data['ENMO'] > seuil_intense]\n",
    "\n",
    "# Visualisation des intensités\n",
    "plt.figure(figsize=(12, 6))\n",
    "plt.plot(data['relative_time_minutes'], data['ENMO'], label=\"ENMO\", color='purple')\n",
    "plt.axhline(y=seuil_faible, color='blue', linestyle='--', label=\"Seuil d'activité faible (0.5)\")\n",
    "plt.axhline(y=seuil_intense, color='red', linestyle='--', label=\"Seuil d'activité intense (1.5)\")\n",
    "plt.title(\"Différenciation des Intensités : Faible, Modérée et Intense\")\n",
    "plt.xlabel(\"Temps (min)\")\n",
    "plt.ylabel(\"ENMO\")\n",
    "plt.legend()\n",
    "plt.grid(True)\n",
    "plt.show()"
   ]
  },
  {
   "cell_type": "code",
   "execution_count": null,
   "id": "a527af7d",
   "metadata": {},
   "outputs": [],
   "source": [
    "# Statistiques de base\n",
    "stats = data['ENMO'].describe()\n",
    "print(stats)"
   ]
  }
 ],
 "metadata": {
  "kernelspec": {
   "display_name": "Python 3 (ipykernel)",
   "language": "python",
   "name": "python3"
  },
  "language_info": {
   "codemirror_mode": {
    "name": "ipython",
    "version": 3
   },
   "file_extension": ".py",
   "mimetype": "text/x-python",
   "name": "python",
   "nbconvert_exporter": "python",
   "pygments_lexer": "ipython3",
   "version": "3.11.4"
  }
 },
 "nbformat": 4,
 "nbformat_minor": 5
}
