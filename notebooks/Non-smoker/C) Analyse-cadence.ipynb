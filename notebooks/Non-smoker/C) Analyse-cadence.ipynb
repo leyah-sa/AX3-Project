{
 "cells": [
  {
   "cell_type": "code",
   "execution_count": 1,
   "id": "43129d91-137a-4f8e-a126-896f2e9cf50a",
   "metadata": {},
   "outputs": [],
   "source": [
    "import pandas as pd\n",
    "import matplotlib.pyplot as plt\n",
    "\n",
    "file_path = \"/Users/duhameleve/Desktop/M2_SNS/M2SNS/Sante/Github/HAH913E-2024-projet/AX3 Project/Sans titre/data/NoneSmokerCardio.csv\"\n",
    "\n",
    "data = pd.read_csv(file_path)\n",
    "\n",
    "timestamp_column = data.columns[0]\n",
    "signal_columns = data.columns[1:]   # All remaining columns are sensor data\n",
    "\n",
    "# Convert the timestamp column to datetime\n",
    "data[timestamp_column] = pd.to_datetime(data[timestamp_column], errors='coerce')  # Handle invalid dates\n",
    "\n",
    "# Calculate the sampling interval (in seconds)\n",
    "sampling_interval = (\n",
    "    pd.to_datetime(data[timestamp_column].iloc[1]) -  # Access a single row\n",
    "    pd.to_datetime(data[timestamp_column].iloc[0])\n",
    ").total_seconds()\n",
    "\n",
    "# Create a relative time axis (in minutes)\n",
    "data['relative_time_minutes'] = data.index * sampling_interval\n",
    "\n",
    "# Define axis labels for clarity\n",
    "axis_labels = ['X-axis', 'Y-axis', 'Z-axis']\n",
    "colors = {'X': 'blue', 'Y': 'red', 'Z': 'lightgreen'}  # Define colors for each signal"
   ]
  },
  {
   "cell_type": "code",
   "execution_count": 2,
   "id": "967021b8",
   "metadata": {},
   "outputs": [
    {
     "ename": "NameError",
     "evalue": "name 'lowpass_filter' is not defined",
     "output_type": "error",
     "traceback": [
      "\u001b[0;31m---------------------------------------------------------------------------\u001b[0m",
      "\u001b[0;31mNameError\u001b[0m                                 Traceback (most recent call last)",
      "Cell \u001b[0;32mIn[2], line 14\u001b[0m\n\u001b[1;32m     11\u001b[0m cutoff \u001b[38;5;241m=\u001b[39m \u001b[38;5;241m2\u001b[39m  \u001b[38;5;66;03m# Fréquence de coupure en Hz (ajustez si nécessaire)\u001b[39;00m\n\u001b[1;32m     13\u001b[0m \u001b[38;5;66;03m# Appliquer le filtre passe-bas\u001b[39;00m\n\u001b[0;32m---> 14\u001b[0m data[selected_axis] \u001b[38;5;241m=\u001b[39m lowpass_filter(data[selected_axis], cutoff, fs)\n\u001b[1;32m     16\u001b[0m \u001b[38;5;66;03m# Détecter les pics dans le signal filtré\u001b[39;00m\n\u001b[1;32m     17\u001b[0m peaks, _ \u001b[38;5;241m=\u001b[39m find_peaks(data[selected_axis], height\u001b[38;5;241m=\u001b[39m\u001b[38;5;241m0.25\u001b[39m, distance\u001b[38;5;241m=\u001b[39mfs \u001b[38;5;241m*\u001b[39m \u001b[38;5;241m0.1\u001b[39m)  \u001b[38;5;66;03m# Ajuster les paramètres si nécessaire\u001b[39;00m\n",
      "\u001b[0;31mNameError\u001b[0m: name 'lowpass_filter' is not defined"
     ]
    }
   ],
   "source": [
    "from scipy.signal import find_peaks\n",
    "import matplotlib.pyplot as plt\n",
    "\n",
    "#Sélectionner l'axe avec la plus grande variance\n",
    "signal_columns = data.columns[1:-1]  # Exclure le timestamp et le temps relatif\n",
    "variances = data[signal_columns].var()\n",
    "selected_axis = variances.idxmax()\n",
    "\n",
    "# Définir la fréquence d'échantillonnage et de coupure\n",
    "fs = 1 / sampling_interval  # Fréquence d'échantillonnage en Hz\n",
    "cutoff = 2  # Fréquence de coupure en Hz (ajustez si nécessaire)\n",
    "\n",
    "# Appliquer le filtre passe-bas\n",
    "data[selected_axis] = lowpass_filter(data[selected_axis], cutoff, fs)\n",
    "\n",
    "# Détecter les pics dans le signal filtré\n",
    "peaks, _ = find_peaks(data[selected_axis], height=0.25, distance=fs * 0.1)  # Ajuster les paramètres si nécessaire\n",
    "\n",
    "# Calculer les temps associés aux pics détectés\n",
    "peak_times = data['relative_time_minutes'].iloc[peaks]\n",
    "\n",
    "# Calculer les intervalles entre les pics (en secondes)\n",
    "intervals = peak_times.diff().dropna()\n",
    "\n",
    "# Calculer la cadence (pas par seconde)\n",
    "cadence_per_second = 1 / intervals\n",
    "\n",
    "# Convertir la cadence en pas par minute\n",
    "cadence_per_minute = cadence_per_second * 60\n",
    "\n",
    "# Afficher les statistiques\n",
    "print(f\"Nombre total de pics détectés : {len(peaks)}\")\n",
    "print(f\"Intervalle moyen entre les pics : {intervals.mean():.2f} secondes\")\n",
    "print(f\"Cadence moyenne : {cadence_per_minute.mean():.2f} pas par minute\")\n",
    "\n",
    "# Visualiser le signal filtré et les pics détectés\n",
    "plt.figure(figsize=(12, 6))\n",
    "plt.plot(data['relative_time_minutes'], data[selected_axis], label=f\"Signal filtré {selected_axis}\")\n",
    "plt.plot(peak_times, data[selected_axis].iloc[peaks], \"x\", label=\"Pics détectés\", color='red')\n",
    "plt.title(\"Détection des Pics dans le Signal Filtré\")\n",
    "plt.xlabel(\"Temps (minutes)\")\n",
    "plt.ylabel(\"Accélération (g)\")\n",
    "plt.legend()\n",
    "plt.grid(True)\n",
    "plt.show()"
   ]
  }
 ],
 "metadata": {
  "kernelspec": {
   "display_name": "Python 3 (ipykernel)",
   "language": "python",
   "name": "python3"
  },
  "language_info": {
   "codemirror_mode": {
    "name": "ipython",
    "version": 3
   },
   "file_extension": ".py",
   "mimetype": "text/x-python",
   "name": "python",
   "nbconvert_exporter": "python",
   "pygments_lexer": "ipython3",
   "version": "3.11.4"
  }
 },
 "nbformat": 4,
 "nbformat_minor": 5
}
